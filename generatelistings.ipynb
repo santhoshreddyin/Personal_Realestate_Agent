{
 "cells": [
  {
   "cell_type": "code",
   "execution_count": null,
   "metadata": {},
   "outputs": [
    {
     "ename": "",
     "evalue": "",
     "output_type": "error",
     "traceback": [
      "\u001b[1;31mFailed to start the Kernel. \n",
      "\u001b[1;31mUnable to start Kernel '.venv (Python 3.12.4)' due to a timeout waiting for the ports to get used. \n",
      "\u001b[1;31mView Jupyter <a href='command:jupyter.viewOutput'>log</a> for further details."
     ]
    }
   ],
   "source": [
    "import json\n",
    "import uuid\n",
    "from AI_Functions import call_llm\n",
    "from RAG_Functions import create_collection\n",
    "\n",
    "llm_model=\"gpt-3.5-turbo\"\n",
    "Real_Estate_Listings = create_collection(\"Real_Estate\")\n",
    "\n",
    "\n"
   ]
  },
  {
   "cell_type": "code",
   "execution_count": null,
   "metadata": {},
   "outputs": [],
   "source": [
    "Real_Estate_Listings.count()"
   ]
  },
  {
   "cell_type": "code",
   "execution_count": null,
   "metadata": {},
   "outputs": [],
   "source": [
    "# Define the function that will injects the list into the chroma DB\n",
    "def generate_listing(Neighborhood, Price, Bedrooms, Bathrooms, House_Size, Description, Neighborhood_Description):\n",
    "    print(Neighborhood, Price, Bedrooms, Bathrooms, House_Size, Description, Neighborhood_Description)\n",
    "    unique_id = str(uuid.uuid4())\n",
    "    collection.upsert(\n",
    "    documents=[\n",
    "        Description,Neighborhood_Description\n",
    "    ],\n",
    "    metadatas=[{\"Neighborhood\": Neighborhood, \"Price\": Price , \"Bedrooms\": Bedrooms, \"Bathrooms\": Bathrooms, \"House_Size\": House_Size},{\"Neighborhood\": Neighborhood, \"Price\": Price , \"Bedrooms\": Bedrooms, \"Bathrooms\": Bathrooms, \"House_Size\": House_Size}],\n",
    "    ids=[f\"{unique_id}_Description\", f\"{unique_id}_Neighborhood_Description\"]\n",
    ")\n",
    "\n",
    "\n",
    "available_functions = {\n",
    "        \"generate_listing\": generate_listing,\n",
    "    }"
   ]
  },
  {
   "cell_type": "code",
   "execution_count": null,
   "metadata": {},
   "outputs": [],
   "source": [
    "# Define the tools that will be available to the user\n",
    "tools=[\n",
    "    {\n",
    "        \"type\": \"function\",\n",
    "        \"function\": {\n",
    "            \"name\": \"generate_listing\",\n",
    "            \"description\": \"Create a real estate Listing\",\n",
    "            \"parameters\": {\n",
    "                \"type\": \"object\",\n",
    "                \"properties\": {\n",
    "                    \"Neighborhood\": {\n",
    "                        \"type\": \"string\",\n",
    "                        \"description\": \"e.g. Green Oaks\"\n",
    "                    },\n",
    "                    \"Price\": {\n",
    "                        \"type\": \"string\",\n",
    "                        \"description\": \"e.g. $800,000\"\n",
    "                    },\n",
    "                    \"Bedrooms\": {\n",
    "                        \"type\": \"number\",\n",
    "                        \"description\": \"e.g. 2\"\n",
    "                    },\n",
    "                    \"Bathrooms\": {\n",
    "                        \"type\": \"number\"\n",
    "                    },\n",
    "                    \"House Size\": {\n",
    "                        \"type\": \"string\",\n",
    "                        \"description\": \"e.g. 2,000 sqft\"\n",
    "                    },\n",
    "                    \"Description\": {\n",
    "                        \"type\": \"string\",\n",
    "                        \"description\": \"e.g. Welcome to this eco-friendly oasis nestled in the heart of Green Oaks. This charming 3-bedroom, 2-bathroom home boasts energy-efficient features such as solar panels and a well-insulated structure. Natural light floods the living spaces, highlighting the beautiful hardwood floors and eco-conscious finishes. The open-concept kitchen and dining area lead to a spacious backyard with a vegetable garden, perfect for the eco-conscious family. Embrace sustainable living without compromising on style in this Green Oaks gem.\"\n",
    "                    },\n",
    "                    \"Neighborhood Description\": {\n",
    "                        \"type\": \"string\",\n",
    "                        \"description\": \"e.g. Green Oaks is a close-knit, environmentally-conscious community with access to organic grocery stores, community gardens, and bike paths. Take a stroll through the nearby Green Oaks Park or grab a cup of coffee at the cozy Green Bean Cafe. With easy access to public transportation and bike lanes, commuting is a breeze\"\n",
    "                    }\n",
    "                },\n",
    "                \"required\": [\"Neighborhood\",\"Price\",\"Bedrooms\",\"Bathrooms\",\"House Size\",\"Description\",\"Neighborhood Description\"]\n",
    "            }\n",
    "        }\n",
    "    }\n",
    "    ]\n",
    "messages = [{\"role\": \"user\", \"content\": \"create 15 sample real estate listings\"}]\n",
    "response_message = call_llm(llm_model, messages, tools)\n",
    "tool_calls = response_message.tool_calls\n",
    "\n"
   ]
  },
  {
   "cell_type": "code",
   "execution_count": null,
   "metadata": {},
   "outputs": [],
   "source": [
    "tool_calls"
   ]
  },
  {
   "cell_type": "code",
   "execution_count": null,
   "metadata": {},
   "outputs": [],
   "source": [
    "if tool_calls:\n",
    "        for tool_call in tool_calls:\n",
    "            function_name = tool_call.function.name\n",
    "            function_to_call = available_functions[function_name]\n",
    "            function_args = json.loads(tool_call.function.arguments)\n",
    "            function_response = function_to_call(\n",
    "                Neighborhood=function_args.get(\"Neighborhood\"),\n",
    "                Price=function_args.get(\"Price\"),\n",
    "                Bedrooms=function_args.get(\"Bedrooms\"),\n",
    "                Bathrooms=function_args.get(\"Bathrooms\"),\n",
    "                House_Size=function_args.get(\"House Size\"),\n",
    "                Description=function_args.get(\"Description\"),\n",
    "                Neighborhood_Description=function_args.get(\"Neighborhood Description\"),\n",
    "            )\n",
    "            print(function_response)"
   ]
  },
  {
   "cell_type": "code",
   "execution_count": null,
   "metadata": {},
   "outputs": [],
   "source": [
    "collection.count()"
   ]
  }
 ],
 "metadata": {
  "kernelspec": {
   "display_name": "homeagent",
   "language": "python",
   "name": "python3"
  },
  "language_info": {
   "codemirror_mode": {
    "name": "ipython",
    "version": 3
   },
   "file_extension": ".py",
   "mimetype": "text/x-python",
   "name": "python",
   "nbconvert_exporter": "python",
   "pygments_lexer": "ipython3",
   "version": "3.12.4"
  }
 },
 "nbformat": 4,
 "nbformat_minor": 2
}
