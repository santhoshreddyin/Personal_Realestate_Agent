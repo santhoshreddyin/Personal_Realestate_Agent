{
 "cells": [
  {
   "cell_type": "code",
   "execution_count": 1,
   "metadata": {},
   "outputs": [
    {
     "ename": "OpenAIError",
     "evalue": "The api_key client option must be set either by passing api_key to the client or by setting the OPENAI_API_KEY environment variable",
     "output_type": "error",
     "traceback": [
      "\u001b[0;31m---------------------------------------------------------------------------\u001b[0m",
      "\u001b[0;31mOpenAIError\u001b[0m                               Traceback (most recent call last)",
      "Cell \u001b[0;32mIn[1], line 7\u001b[0m\n\u001b[1;32m      4\u001b[0m \u001b[38;5;28;01mimport\u001b[39;00m \u001b[38;5;21;01mchromadb\u001b[39;00m\n\u001b[1;32m      6\u001b[0m \u001b[38;5;66;03m# create an OpenAI client\u001b[39;00m\n\u001b[0;32m----> 7\u001b[0m client \u001b[38;5;241m=\u001b[39m \u001b[43mOpenAI\u001b[49m\u001b[43m(\u001b[49m\u001b[43m)\u001b[49m\n\u001b[1;32m      9\u001b[0m \u001b[38;5;66;03m#create a chromaDB client\u001b[39;00m\n\u001b[1;32m     10\u001b[0m chroma_client \u001b[38;5;241m=\u001b[39m chromadb\u001b[38;5;241m.\u001b[39mPersistentClient()\n",
      "File \u001b[0;32m~/Library/CloudStorage/OneDrive-Personal/Learning/Personal_RealEstate_Agent/Personal_Realestate_Agent/.venv/lib/python3.12/site-packages/openai/_client.py:104\u001b[0m, in \u001b[0;36mOpenAI.__init__\u001b[0;34m(self, api_key, organization, project, base_url, timeout, max_retries, default_headers, default_query, http_client, _strict_response_validation)\u001b[0m\n\u001b[1;32m    102\u001b[0m     api_key \u001b[38;5;241m=\u001b[39m os\u001b[38;5;241m.\u001b[39menviron\u001b[38;5;241m.\u001b[39mget(\u001b[38;5;124m\"\u001b[39m\u001b[38;5;124mOPENAI_API_KEY\u001b[39m\u001b[38;5;124m\"\u001b[39m)\n\u001b[1;32m    103\u001b[0m \u001b[38;5;28;01mif\u001b[39;00m api_key \u001b[38;5;129;01mis\u001b[39;00m \u001b[38;5;28;01mNone\u001b[39;00m:\n\u001b[0;32m--> 104\u001b[0m     \u001b[38;5;28;01mraise\u001b[39;00m OpenAIError(\n\u001b[1;32m    105\u001b[0m         \u001b[38;5;124m\"\u001b[39m\u001b[38;5;124mThe api_key client option must be set either by passing api_key to the client or by setting the OPENAI_API_KEY environment variable\u001b[39m\u001b[38;5;124m\"\u001b[39m\n\u001b[1;32m    106\u001b[0m     )\n\u001b[1;32m    107\u001b[0m \u001b[38;5;28mself\u001b[39m\u001b[38;5;241m.\u001b[39mapi_key \u001b[38;5;241m=\u001b[39m api_key\n\u001b[1;32m    109\u001b[0m \u001b[38;5;28;01mif\u001b[39;00m organization \u001b[38;5;129;01mis\u001b[39;00m \u001b[38;5;28;01mNone\u001b[39;00m:\n",
      "\u001b[0;31mOpenAIError\u001b[0m: The api_key client option must be set either by passing api_key to the client or by setting the OPENAI_API_KEY environment variable"
     ]
    }
   ],
   "source": [
    "from openai import OpenAI\n",
    "import json\n",
    "import uuid\n",
    "import chromadb\n",
    "\n",
    "# create an OpenAI client\n",
    "client = OpenAI()\n",
    "\n",
    "#create a chromaDB client\n",
    "chroma_client = chromadb.PersistentClient()\n",
    "\n",
    "collection = chroma_client.get_or_create_collection(name=\"Real_Estate\" , metadata={\"hnsw:space\": \"cosine\"} )\n",
    "\n",
    "# Check if there is any existing data in the collection\n",
    "\n"
   ]
  },
  {
   "cell_type": "code",
   "execution_count": null,
   "metadata": {},
   "outputs": [
    {
     "data": {
      "text/plain": [
       "38"
      ]
     },
     "execution_count": 16,
     "metadata": {},
     "output_type": "execute_result"
    }
   ],
   "source": [
    "collection.count()\n"
   ]
  },
  {
   "cell_type": "code",
   "execution_count": null,
   "metadata": {},
   "outputs": [],
   "source": [
    "# Define the function that will injects the list into the chroma DB\n",
    "def generate_listing(Neighborhood, Price, Bedrooms, Bathrooms, House_Size, Description, Neighborhood_Description):\n",
    "    print(Neighborhood, Price, Bedrooms, Bathrooms, House_Size, Description, Neighborhood_Description)\n",
    "    unique_id = str(uuid.uuid4())\n",
    "    collection.upsert(\n",
    "    documents=[\n",
    "        Description,Neighborhood_Description\n",
    "    ],\n",
    "    metadatas=[{\"Neighborhood\": Neighborhood, \"Price\": Price , \"Bedrooms\": Bedrooms, \"Bathrooms\": Bathrooms, \"House_Size\": House_Size, \"Neighborhood_Description\": \"3\"},{\"Neighborhood\": Neighborhood, \"Price\": Price , \"Bedrooms\": Bedrooms, \"Bathrooms\": Bathrooms, \"House_Size\": House_Size, \"Neighborhood_Description\": \"3\"}],\n",
    "    ids=[f\"{unique_id}_Description\", f\"{unique_id}_Neighborhood_Description\"]\n",
    ")\n",
    "\n",
    "\n",
    "available_functions = {\n",
    "        \"generate_listing\": generate_listing,\n",
    "    }"
   ]
  },
  {
   "cell_type": "code",
   "execution_count": null,
   "metadata": {},
   "outputs": [],
   "source": [
    "messages = [{\"role\": \"user\", \"content\": \"create 10 sample real estate listings\"}]\n",
    "tools=[\n",
    "    {\n",
    "        \"type\": \"function\",\n",
    "        \"function\": {\n",
    "            \"name\": \"generate_listing\",\n",
    "            \"description\": \"Create a real estate Listing\",\n",
    "            \"parameters\": {\n",
    "                \"type\": \"object\",\n",
    "                \"properties\": {\n",
    "                    \"Neighborhood\": {\n",
    "                        \"type\": \"string\",\n",
    "                        \"description\": \"e.g. Green Oaks\"\n",
    "                    },\n",
    "                    \"Price\": {\n",
    "                        \"type\": \"string\",\n",
    "                        \"description\": \"e.g. $800,000\"\n",
    "                    },\n",
    "                    \"Bedrooms\": {\n",
    "                        \"type\": \"number\",\n",
    "                        \"description\": \"e.g. 2\"\n",
    "                    },\n",
    "                    \"Bathrooms\": {\n",
    "                        \"type\": \"number\"\n",
    "                    },\n",
    "                    \"House Size\": {\n",
    "                        \"type\": \"string\",\n",
    "                        \"description\": \"e.g. 2,000 sqft\"\n",
    "                    },\n",
    "                    \"Description\": {\n",
    "                        \"type\": \"string\",\n",
    "                        \"description\": \"e.g. Welcome to this eco-friendly oasis nestled in the heart of Green Oaks. This charming 3-bedroom, 2-bathroom home boasts energy-efficient features such as solar panels and a well-insulated structure. Natural light floods the living spaces, highlighting the beautiful hardwood floors and eco-conscious finishes. The open-concept kitchen and dining area lead to a spacious backyard with a vegetable garden, perfect for the eco-conscious family. Embrace sustainable living without compromising on style in this Green Oaks gem.\"\n",
    "                    },\n",
    "                    \"Neighborhood Description\": {\n",
    "                        \"type\": \"string\",\n",
    "                        \"description\": \"e.g. Green Oaks is a close-knit, environmentally-conscious community with access to organic grocery stores, community gardens, and bike paths. Take a stroll through the nearby Green Oaks Park or grab a cup of coffee at the cozy Green Bean Cafe. With easy access to public transportation and bike lanes, commuting is a breeze\"\n",
    "                    }\n",
    "                },\n",
    "                \"required\": [\"Neighborhood\",\"Price\",\"Bedrooms\",\"Bathrooms\",\"House Size\",\"Description\",\"Neighborhood Description\"]\n",
    "            }\n",
    "        }\n",
    "    }\n",
    "    ]\n",
    "\n",
    "response = client.chat.completions.create(\n",
    "        model=\"gpt-3.5-turbo\",\n",
    "        messages=messages,\n",
    "        tools=tools,\n",
    "        tool_choice=\"auto\",  # auto is default, but we'll be explicit\n",
    "    )\n",
    "response_message = response.choices[0].message\n",
    "tool_calls = response_message.tool_calls\n",
    "\n"
   ]
  },
  {
   "cell_type": "code",
   "execution_count": null,
   "metadata": {},
   "outputs": [
    {
     "data": {
      "text/plain": [
       "[ChatCompletionMessageToolCall(id='call_9tjiJsCwzYIQoPHrmDRS6WDN', function=Function(arguments='{\"Neighborhood\": \"Green Oaks\", \"Price\": \"$800,000\", \"Bedrooms\": 3, \"Bathrooms\": 2, \"House Size\": \"2,000 sqft\", \"Description\": \"Welcome to this eco-friendly oasis nestled in the heart of Green Oaks. This charming 3-bedroom, 2-bathroom home boasts energy-efficient features such as solar panels and a well-insulated structure. Natural light floods the living spaces, highlighting the beautiful hardwood floors and eco-conscious finishes. The open-concept kitchen and dining area lead to a spacious backyard with a vegetable garden, perfect for the eco-conscious family. Embrace sustainable living without compromising on style in this Green Oaks gem.\", \"Neighborhood Description\": \"Green Oaks is a close-knit, environmentally-conscious community with access to organic grocery stores, community gardens, and bike paths. Take a stroll through the nearby Green Oaks Park or grab a cup of coffee at the cozy Green Bean Cafe. With easy access to public transportation and bike lanes, commuting is a breeze\"}', name='generate_listing'), type='function'),\n",
       " ChatCompletionMessageToolCall(id='call_6B4zOsEHTjnjRUyOdSPp9eBi', function=Function(arguments='{\"Neighborhood\": \"Lakeview\", \"Price\": \"$650,000\", \"Bedrooms\": 2, \"Bathrooms\": 1, \"House Size\": \"1,500 sqft\", \"Description\": \"Discover urban living at its best in this stylish 2-bedroom, 1-bathroom condo located in the heart of Lakeview. The modern design and high-end finishes create a chic and comfortable living space. Large windows offer breathtaking views of the city skyline, while the gourmet kitchen is perfect for entertaining guests. Enjoy the vibrant neighborhood filled with trendy cafes, boutique shops, and easy access to the lakefront trail. Experience the convenience and excitement of Lakeview living in this sophisticated condo.\", \"Neighborhood Description\": \"Lakeview is a bustling neighborhood known for its lively nightlife, diverse dining options, and scenic lakefront views. Explore the nearby Clark Street for shopping and dining, or take a leisurely walk along the Lakefront Trail. With excellent public transportation options, Lakeview offers easy access to downtown Chicago and beyond\"}', name='generate_listing'), type='function'),\n",
       " ChatCompletionMessageToolCall(id='call_bXhqzJxymYUrGxjcvsdCD2Rq', function=Function(arguments='{\"Neighborhood\": \"Ravenswood\", \"Price\": \"$720,000\", \"Bedrooms\": 4, \"Bathrooms\": 3, \"House Size\": \"2,500 sqft\", \"Description\": \"Step into luxury in this spacious 4-bedroom, 3-bathroom home located in the desirable Ravenswood neighborhood. The grand foyer welcomes you into a sunlit living room with elegant hardwood floors and a cozy fireplace. The gourmet kitchen features stainless steel appliances and a breakfast nook overlooking the landscaped backyard. Retreat to the master suite with a spa-like bathroom and walk-in closet. Enjoy the peaceful surroundings of Ravenswood in this stunning home ideal for family living and entertaining.\", \"Neighborhood Description\": \"Ravenswood is a charming neighborhood known for its tree-lined streets, historic architecture, and welcoming community vibe. Explore local cafes, breweries, and boutiques along Ravenswood Avenue. With easy access to the Metra station and public transportation, commuting to downtown Chicago is a breeze\"}', name='generate_listing'), type='function'),\n",
       " ChatCompletionMessageToolCall(id='call_B7o2FSaz3crgDqNw7XZ3F3HH', function=Function(arguments='{\"Neighborhood\": \"West Loop\", \"Price\": \"$900,000\", \"Bedrooms\": 2, \"Bathrooms\": 2, \"House Size\": \"1,800 sqft\", \"Description\": \"Live in the heart of the vibrant West Loop in this sleek 2-bedroom, 2-bathroom loft-style condo. The open floor plan features exposed brick walls, high ceilings, and large windows that flood the space with natural light. The modern kitchen is equipped with stainless steel appliances and a breakfast bar. Step outside to the private balcony to enjoy city views or explore the trendy restaurants and art galleries nearby. Experience urban living at its finest in this stylish West Loop condo.\", \"Neighborhood Description\": \"The West Loop is a trendy neighborhood renowned for its acclaimed restaurants, art galleries, and nightlife. Explore the bustling Randolph Street Restaurant Row or visit the iconic Fulton Market District for shopping and dining. With easy access to public transportation and the expressway, getting around the city is convenient from the West Loop\"}', name='generate_listing'), type='function'),\n",
       " ChatCompletionMessageToolCall(id='call_vNOKwzdNACxe6POBAztnXU08', function=Function(arguments='{\"Neighborhood\": \"Lincoln Park\", \"Price\": \"$1,100,000\", \"Bedrooms\": 4, \"Bathrooms\": 3, \"House Size\": \"2,800 sqft\", \"Description\": \"Indulge in luxury living in this stunning 4-bedroom, 3-bathroom home nestled in the coveted Lincoln Park neighborhood. The elegant interior features hardwood floors, high ceilings, and designer finishes throughout. The gourmet kitchen is a chef\\'s dream with top-of-the-line appliances and a center island. Relax in the spacious master suite with a spa-like en-suite bathroom and walk-in closet. Enjoy the outdoor oasis with a landscaped backyard and patio. Experience the epitome of sophistication in this Lincoln Park gem.\", \"Neighborhood Description\": \"Lincoln Park is a prestigious neighborhood known for its historic charm, upscale dining options, and picturesque parks. Stroll along the scenic lakefront or visit the Lincoln Park Zoo for a day of family fun. With boutique shops and fine dining just steps away, Lincoln Park offers a perfect blend of luxury and convenience\"}', name='generate_listing'), type='function'),\n",
       " ChatCompletionMessageToolCall(id='call_m1S8ooePAh26vj85eUdQjSKU', function=Function(arguments='{\"Neighborhood\": \"Wicker Park\", \"Price\": \"$780,000\", \"Bedrooms\": 3, \"Bathrooms\": 2, \"House Size\": \"2,200 sqft\", \"Description\": \"Embrace urban living in this stylish 3-bedroom, 2-bathroom loft located in the vibrant Wicker Park neighborhood. The industrial-chic design features exposed brick walls, hardwood floors, and a spacious open layout. The modern kitchen is outfitted with stainless steel appliances and a breakfast bar. Retreat to the master suite with a walk-in closet and a luxurious bathroom. Step outside to the private deck to enjoy city views or explore the eclectic shops and eateries nearby. Experience the energy and creativity of Wicker Park living in this contemporary loft.\", \"Neighborhood Description\": \"Wicker Park is a hip neighborhood filled with artistic flair, trendy boutiques, and eclectic dining options. Discover local art galleries, vintage shops, and music venues along Milwaukee Avenue. With easy access to public transportation and the trendy Division Street, Wicker Park offers a unique blend of culture and convenience\"}', name='generate_listing'), type='function'),\n",
       " ChatCompletionMessageToolCall(id='call_oJTVwKdAAT370RUW5p4ifidS', function=Function(arguments='{\"Neighborhood\": \"South Loop\", \"Price\": \"$720,000\", \"Bedrooms\": 2, \"Bathrooms\": 2, \"House Size\": \"1,600 sqft\", \"Description\": \"Live in luxury in this modern 2-bedroom, 2-bathroom condo situated in the dynamic South Loop neighborhood. The spacious living area boasts floor-to-ceiling windows, offering panoramic views of the city skyline. The gourmet kitchen features sleek cabinetry, quartz countertops, and high-end appliances. Relax in the master suite with a spa-like bathroom and a walk-in closet. Enjoy the convenience of a fitness center, outdoor pool, and easy access to dining and entertainment options. Experience urban sophistication in this South Loop condo.\", \"Neighborhood Description\": \"The South Loop is a vibrant neighborhood nestled near downtown Chicago, featuring cultural attractions, convenient amenities, and beautiful lakefront views. Explore the nearby museums, parks, and dining destinations or take a leisurely stroll along the Lake Michigan shoreline. With easy access to transportation options, including the CTA and major expressways, the South Loop offers a bustling urban lifestyle\"}', name='generate_listing'), type='function'),\n",
       " ChatCompletionMessageToolCall(id='call_6YBo2F37VrRDkoaAqA1p3WIL', function=Function(arguments='{\"Neighborhood\": \"Gold Coast\", \"Price\": \"$950,000\", \"Bedrooms\": 3, \"Bathrooms\": 2, \"House Size\": \"2,400 sqft\", \"Description\": \"Luxury awaits in this stunning 3-bedroom, 2-bathroom condo located in the prestigious Gold Coast neighborhood. The spacious and bright interior features hardwood floors, custom millwork, and high-end finishes. The gourmet kitchen is equipped with top-of-the-line appliances and a center island. Retreat to the master suite with a luxurious en-suite bathroom and walk-in closet. Enjoy the views from the private balcony or explore the upscale shops and dining options nearby. Experience sophistication and elegance in this Gold Coast residence.\", \"Neighborhood Description\": \"The Gold Coast is an exclusive neighborhood known for its historic architecture, upscale boutiques, and fine dining establishments. Explore the iconic Magnificent Mile for shopping and entertainment or take a leisurely walk along Oak Street Beach. With easy access to public transportation and Lake Shore Drive, the Gold Coast offers a luxurious and convenient lifestyle\"}', name='generate_listing'), type='function'),\n",
       " ChatCompletionMessageToolCall(id='call_UWinQ0czFPV05pJWXCSyXu0I', function=Function(arguments='{\"Neighborhood\": \"Old Town\", \"Price\": \"$820,000\", \"Bedrooms\": 3, \"Bathrooms\": 2, \"House Size\": \"2,100 sqft\", \"Description\": \"Discover the charm of Old Town living in this spacious 3-bedroom, 2-bathroom home nestled in a historic tree-lined street. The elegant interior features hardwood floors, crown molding, and large windows that fill the space with natural light. The gourmet kitchen is outfitted with stainless steel appliances and granite countertops. Retreat to the master suite with a walk-in closet and a spa-like bathroom. Enjoy the outdoor deck and landscaped garden for al fresco dining and entertaining. Experience classic Chicago living in this Old Town gem.\", \"Neighborhood Description\": \"Old Town is a historic neighborhood known for its Victorian architecture, vibrant entertainment scene, and eclectic dining options. Explore the local theaters, comedy clubs, and boutiques along Wells Street or take a leisurely stroll through the charming streets filled with historic homes. With close proximity to downtown Chicago and public transportation, Old Town offers a blend of tradition and modern amenities\"}', name='generate_listing'), type='function')]"
      ]
     },
     "execution_count": 11,
     "metadata": {},
     "output_type": "execute_result"
    }
   ],
   "source": [
    "tool_calls"
   ]
  },
  {
   "cell_type": "code",
   "execution_count": null,
   "metadata": {},
   "outputs": [
    {
     "name": "stdout",
     "output_type": "stream",
     "text": [
      "Green Oaks $800,000 3 2 2,000 sqft Welcome to this eco-friendly oasis nestled in the heart of Green Oaks. This charming 3-bedroom, 2-bathroom home boasts energy-efficient features such as solar panels and a well-insulated structure. Natural light floods the living spaces, highlighting the beautiful hardwood floors and eco-conscious finishes. The open-concept kitchen and dining area lead to a spacious backyard with a vegetable garden, perfect for the eco-conscious family. Embrace sustainable living without compromising on style in this Green Oaks gem. Green Oaks is a close-knit, environmentally-conscious community with access to organic grocery stores, community gardens, and bike paths. Take a stroll through the nearby Green Oaks Park or grab a cup of coffee at the cozy Green Bean Cafe. With easy access to public transportation and bike lanes, commuting is a breeze\n",
      "None\n",
      "Lakeview $650,000 2 1 1,500 sqft Discover urban living at its best in this stylish 2-bedroom, 1-bathroom condo located in the heart of Lakeview. The modern design and high-end finishes create a chic and comfortable living space. Large windows offer breathtaking views of the city skyline, while the gourmet kitchen is perfect for entertaining guests. Enjoy the vibrant neighborhood filled with trendy cafes, boutique shops, and easy access to the lakefront trail. Experience the convenience and excitement of Lakeview living in this sophisticated condo. Lakeview is a bustling neighborhood known for its lively nightlife, diverse dining options, and scenic lakefront views. Explore the nearby Clark Street for shopping and dining, or take a leisurely walk along the Lakefront Trail. With excellent public transportation options, Lakeview offers easy access to downtown Chicago and beyond\n",
      "None\n",
      "Ravenswood $720,000 4 3 2,500 sqft Step into luxury in this spacious 4-bedroom, 3-bathroom home located in the desirable Ravenswood neighborhood. The grand foyer welcomes you into a sunlit living room with elegant hardwood floors and a cozy fireplace. The gourmet kitchen features stainless steel appliances and a breakfast nook overlooking the landscaped backyard. Retreat to the master suite with a spa-like bathroom and walk-in closet. Enjoy the peaceful surroundings of Ravenswood in this stunning home ideal for family living and entertaining. Ravenswood is a charming neighborhood known for its tree-lined streets, historic architecture, and welcoming community vibe. Explore local cafes, breweries, and boutiques along Ravenswood Avenue. With easy access to the Metra station and public transportation, commuting to downtown Chicago is a breeze\n",
      "None\n",
      "West Loop $900,000 2 2 1,800 sqft Live in the heart of the vibrant West Loop in this sleek 2-bedroom, 2-bathroom loft-style condo. The open floor plan features exposed brick walls, high ceilings, and large windows that flood the space with natural light. The modern kitchen is equipped with stainless steel appliances and a breakfast bar. Step outside to the private balcony to enjoy city views or explore the trendy restaurants and art galleries nearby. Experience urban living at its finest in this stylish West Loop condo. The West Loop is a trendy neighborhood renowned for its acclaimed restaurants, art galleries, and nightlife. Explore the bustling Randolph Street Restaurant Row or visit the iconic Fulton Market District for shopping and dining. With easy access to public transportation and the expressway, getting around the city is convenient from the West Loop\n",
      "None\n",
      "Lincoln Park $1,100,000 4 3 2,800 sqft Indulge in luxury living in this stunning 4-bedroom, 3-bathroom home nestled in the coveted Lincoln Park neighborhood. The elegant interior features hardwood floors, high ceilings, and designer finishes throughout. The gourmet kitchen is a chef's dream with top-of-the-line appliances and a center island. Relax in the spacious master suite with a spa-like en-suite bathroom and walk-in closet. Enjoy the outdoor oasis with a landscaped backyard and patio. Experience the epitome of sophistication in this Lincoln Park gem. Lincoln Park is a prestigious neighborhood known for its historic charm, upscale dining options, and picturesque parks. Stroll along the scenic lakefront or visit the Lincoln Park Zoo for a day of family fun. With boutique shops and fine dining just steps away, Lincoln Park offers a perfect blend of luxury and convenience\n",
      "None\n",
      "Wicker Park $780,000 3 2 2,200 sqft Embrace urban living in this stylish 3-bedroom, 2-bathroom loft located in the vibrant Wicker Park neighborhood. The industrial-chic design features exposed brick walls, hardwood floors, and a spacious open layout. The modern kitchen is outfitted with stainless steel appliances and a breakfast bar. Retreat to the master suite with a walk-in closet and a luxurious bathroom. Step outside to the private deck to enjoy city views or explore the eclectic shops and eateries nearby. Experience the energy and creativity of Wicker Park living in this contemporary loft. Wicker Park is a hip neighborhood filled with artistic flair, trendy boutiques, and eclectic dining options. Discover local art galleries, vintage shops, and music venues along Milwaukee Avenue. With easy access to public transportation and the trendy Division Street, Wicker Park offers a unique blend of culture and convenience\n",
      "None\n",
      "South Loop $720,000 2 2 1,600 sqft Live in luxury in this modern 2-bedroom, 2-bathroom condo situated in the dynamic South Loop neighborhood. The spacious living area boasts floor-to-ceiling windows, offering panoramic views of the city skyline. The gourmet kitchen features sleek cabinetry, quartz countertops, and high-end appliances. Relax in the master suite with a spa-like bathroom and a walk-in closet. Enjoy the convenience of a fitness center, outdoor pool, and easy access to dining and entertainment options. Experience urban sophistication in this South Loop condo. The South Loop is a vibrant neighborhood nestled near downtown Chicago, featuring cultural attractions, convenient amenities, and beautiful lakefront views. Explore the nearby museums, parks, and dining destinations or take a leisurely stroll along the Lake Michigan shoreline. With easy access to transportation options, including the CTA and major expressways, the South Loop offers a bustling urban lifestyle\n",
      "None\n",
      "Gold Coast $950,000 3 2 2,400 sqft Luxury awaits in this stunning 3-bedroom, 2-bathroom condo located in the prestigious Gold Coast neighborhood. The spacious and bright interior features hardwood floors, custom millwork, and high-end finishes. The gourmet kitchen is equipped with top-of-the-line appliances and a center island. Retreat to the master suite with a luxurious en-suite bathroom and walk-in closet. Enjoy the views from the private balcony or explore the upscale shops and dining options nearby. Experience sophistication and elegance in this Gold Coast residence. The Gold Coast is an exclusive neighborhood known for its historic architecture, upscale boutiques, and fine dining establishments. Explore the iconic Magnificent Mile for shopping and entertainment or take a leisurely walk along Oak Street Beach. With easy access to public transportation and Lake Shore Drive, the Gold Coast offers a luxurious and convenient lifestyle\n",
      "None\n",
      "Old Town $820,000 3 2 2,100 sqft Discover the charm of Old Town living in this spacious 3-bedroom, 2-bathroom home nestled in a historic tree-lined street. The elegant interior features hardwood floors, crown molding, and large windows that fill the space with natural light. The gourmet kitchen is outfitted with stainless steel appliances and granite countertops. Retreat to the master suite with a walk-in closet and a spa-like bathroom. Enjoy the outdoor deck and landscaped garden for al fresco dining and entertaining. Experience classic Chicago living in this Old Town gem. Old Town is a historic neighborhood known for its Victorian architecture, vibrant entertainment scene, and eclectic dining options. Explore the local theaters, comedy clubs, and boutiques along Wells Street or take a leisurely stroll through the charming streets filled with historic homes. With close proximity to downtown Chicago and public transportation, Old Town offers a blend of tradition and modern amenities\n",
      "None\n"
     ]
    }
   ],
   "source": [
    "if tool_calls:\n",
    "        for tool_call in tool_calls:\n",
    "            function_name = tool_call.function.name\n",
    "            function_to_call = available_functions[function_name]\n",
    "            function_args = json.loads(tool_call.function.arguments)\n",
    "            function_response = function_to_call(\n",
    "                Neighborhood=function_args.get(\"Neighborhood\"),\n",
    "                Price=function_args.get(\"Price\"),\n",
    "                Bedrooms=function_args.get(\"Bedrooms\"),\n",
    "                Bathrooms=function_args.get(\"Bathrooms\"),\n",
    "                House_Size=function_args.get(\"House Size\"),\n",
    "                Description=function_args.get(\"Description\"),\n",
    "                Neighborhood_Description=function_args.get(\"Neighborhood Description\"),\n",
    "            )\n",
    "            print(function_response)"
   ]
  },
  {
   "cell_type": "code",
   "execution_count": null,
   "metadata": {},
   "outputs": [],
   "source": [
    "results = collection.query(\n",
    "    query_texts=[\"high-end finishes\"], # Chroma will embed this for you\n",
    "    n_results=2 # how many results to return\n",
    ")\n",
    "\n"
   ]
  },
  {
   "cell_type": "code",
   "execution_count": null,
   "metadata": {},
   "outputs": [
    {
     "data": {
      "text/plain": [
       "{'ids': [['9aa99797-6b99-4f2a-bd1f-45fcd12efdc3_Description',\n",
       "   '18c68a11-edd9-4fa3-9c91-e48310d53a74_Description']],\n",
       " 'distances': [[0.7712009623625209, 0.7996031103580203]],\n",
       " 'metadatas': [[{'Bathrooms': 2,\n",
       "    'Bedrooms': 3,\n",
       "    'House_Size': '2,400 sqft',\n",
       "    'Neighborhood': 'Gold Coast',\n",
       "    'Neighborhood_Description': '3',\n",
       "    'Price': '$950,000'},\n",
       "   {'Bathrooms': 2,\n",
       "    'Bedrooms': 3,\n",
       "    'House_Size': '2,100 sqft',\n",
       "    'Neighborhood': 'Old Town',\n",
       "    'Neighborhood_Description': '3',\n",
       "    'Price': '$820,000'}]],\n",
       " 'embeddings': None,\n",
       " 'documents': [['Luxury awaits in this stunning 3-bedroom, 2-bathroom condo located in the prestigious Gold Coast neighborhood. The spacious and bright interior features hardwood floors, custom millwork, and high-end finishes. The gourmet kitchen is equipped with top-of-the-line appliances and a center island. Retreat to the master suite with a luxurious en-suite bathroom and walk-in closet. Enjoy the views from the private balcony or explore the upscale shops and dining options nearby. Experience sophistication and elegance in this Gold Coast residence.',\n",
       "   'Discover the charm of Old Town living in this spacious 3-bedroom, 2-bathroom home nestled in a historic tree-lined street. The elegant interior features hardwood floors, crown molding, and large windows that fill the space with natural light. The gourmet kitchen is outfitted with stainless steel appliances and granite countertops. Retreat to the master suite with a walk-in closet and a spa-like bathroom. Enjoy the outdoor deck and landscaped garden for al fresco dining and entertaining. Experience classic Chicago living in this Old Town gem.']],\n",
       " 'uris': None,\n",
       " 'data': None,\n",
       " 'included': ['metadatas', 'documents', 'distances']}"
      ]
     },
     "execution_count": 14,
     "metadata": {},
     "output_type": "execute_result"
    }
   ],
   "source": [
    "results"
   ]
  },
  {
   "cell_type": "code",
   "execution_count": null,
   "metadata": {},
   "outputs": [
    {
     "name": "stdout",
     "output_type": "stream",
     "text": [
      "9aa99797-6b99-4f2a-bd1f-45fcd12efdc3_Description\n",
      "18c68a11-edd9-4fa3-9c91-e48310d53a74_Description\n"
     ]
    }
   ],
   "source": [
    "documents = results['ids'][0]\n",
    "for doc in documents:\n",
    "    print(doc)"
   ]
  },
  {
   "cell_type": "code",
   "execution_count": null,
   "metadata": {},
   "outputs": [],
   "source": []
  }
 ],
 "metadata": {
  "kernelspec": {
   "display_name": "homeagent",
   "language": "python",
   "name": "python3"
  },
  "language_info": {
   "codemirror_mode": {
    "name": "ipython",
    "version": 3
   },
   "file_extension": ".py",
   "mimetype": "text/x-python",
   "name": "python",
   "nbconvert_exporter": "python",
   "pygments_lexer": "ipython3",
   "version": "3.12.4"
  }
 },
 "nbformat": 4,
 "nbformat_minor": 2
}
