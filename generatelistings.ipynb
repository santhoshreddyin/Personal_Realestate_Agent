{
 "cells": [
  {
   "cell_type": "code",
   "execution_count": 1,
   "metadata": {},
   "outputs": [],
   "source": [
    "from openai import OpenAI\n",
    "import json\n",
    "import uuid\n",
    "import chromadb\n",
    "\n",
    "# create an OpenAI client\n",
    "client = OpenAI()\n",
    "\n",
    "#create a chromaDB client\n",
    "chroma_client = chromadb.PersistentClient()\n",
    "\n",
    "collection = chroma_client.get_or_create_collection(name=\"Real_Estate\" , metadata={\"hnsw:space\": \"cosine\"} )\n",
    "\n",
    "# Check if there is any existing data in the collection\n",
    "\n"
   ]
  },
  {
   "cell_type": "code",
   "execution_count": 2,
   "metadata": {},
   "outputs": [
    {
     "data": {
      "text/plain": [
       "0"
      ]
     },
     "execution_count": 2,
     "metadata": {},
     "output_type": "execute_result"
    }
   ],
   "source": [
    "collection.count()"
   ]
  },
  {
   "cell_type": "code",
   "execution_count": 3,
   "metadata": {},
   "outputs": [],
   "source": [
    "# Define the function that will injects the list into the chroma DB\n",
    "def generate_listing(Neighborhood, Price, Bedrooms, Bathrooms, House_Size, Description, Neighborhood_Description):\n",
    "    print(Neighborhood, Price, Bedrooms, Bathrooms, House_Size, Description, Neighborhood_Description)\n",
    "    unique_id = str(uuid.uuid4())\n",
    "    collection.upsert(\n",
    "    documents=[\n",
    "        Description,Neighborhood_Description\n",
    "    ],\n",
    "    metadatas=[{\"Neighborhood\": Neighborhood, \"Price\": Price , \"Bedrooms\": Bedrooms, \"Bathrooms\": Bathrooms, \"House_Size\": House_Size},{\"Neighborhood\": Neighborhood, \"Price\": Price , \"Bedrooms\": Bedrooms, \"Bathrooms\": Bathrooms, \"House_Size\": House_Size}],\n",
    "    ids=[f\"{unique_id}_Description\", f\"{unique_id}_Neighborhood_Description\"]\n",
    ")\n",
    "\n",
    "\n",
    "available_functions = {\n",
    "        \"generate_listing\": generate_listing,\n",
    "    }"
   ]
  },
  {
   "cell_type": "code",
   "execution_count": 4,
   "metadata": {},
   "outputs": [],
   "source": [
    "messages = [{\"role\": \"user\", \"content\": \"create 15 sample real estate listings\"}]\n",
    "tools=[\n",
    "    {\n",
    "        \"type\": \"function\",\n",
    "        \"function\": {\n",
    "            \"name\": \"generate_listing\",\n",
    "            \"description\": \"Create a real estate Listing\",\n",
    "            \"parameters\": {\n",
    "                \"type\": \"object\",\n",
    "                \"properties\": {\n",
    "                    \"Neighborhood\": {\n",
    "                        \"type\": \"string\",\n",
    "                        \"description\": \"e.g. Green Oaks\"\n",
    "                    },\n",
    "                    \"Price\": {\n",
    "                        \"type\": \"string\",\n",
    "                        \"description\": \"e.g. $800,000\"\n",
    "                    },\n",
    "                    \"Bedrooms\": {\n",
    "                        \"type\": \"number\",\n",
    "                        \"description\": \"e.g. 2\"\n",
    "                    },\n",
    "                    \"Bathrooms\": {\n",
    "                        \"type\": \"number\"\n",
    "                    },\n",
    "                    \"House Size\": {\n",
    "                        \"type\": \"string\",\n",
    "                        \"description\": \"e.g. 2,000 sqft\"\n",
    "                    },\n",
    "                    \"Description\": {\n",
    "                        \"type\": \"string\",\n",
    "                        \"description\": \"e.g. Welcome to this eco-friendly oasis nestled in the heart of Green Oaks. This charming 3-bedroom, 2-bathroom home boasts energy-efficient features such as solar panels and a well-insulated structure. Natural light floods the living spaces, highlighting the beautiful hardwood floors and eco-conscious finishes. The open-concept kitchen and dining area lead to a spacious backyard with a vegetable garden, perfect for the eco-conscious family. Embrace sustainable living without compromising on style in this Green Oaks gem.\"\n",
    "                    },\n",
    "                    \"Neighborhood Description\": {\n",
    "                        \"type\": \"string\",\n",
    "                        \"description\": \"e.g. Green Oaks is a close-knit, environmentally-conscious community with access to organic grocery stores, community gardens, and bike paths. Take a stroll through the nearby Green Oaks Park or grab a cup of coffee at the cozy Green Bean Cafe. With easy access to public transportation and bike lanes, commuting is a breeze\"\n",
    "                    }\n",
    "                },\n",
    "                \"required\": [\"Neighborhood\",\"Price\",\"Bedrooms\",\"Bathrooms\",\"House Size\",\"Description\",\"Neighborhood Description\"]\n",
    "            }\n",
    "        }\n",
    "    }\n",
    "    ]\n",
    "\n",
    "response = client.chat.completions.create(\n",
    "        model=\"gpt-4o\", #gpt 4o is accurate in calling the exact number of calls based on request. gpt-3-turbo is not fully accurate. While the ideal way may be to call in loop. Since I am lazy, switched to gpt4o. Slightly higher cost.\n",
    "        messages=messages,\n",
    "        tools=tools,\n",
    "        tool_choice=\"required\",  # Forcing the use of tools\n",
    "    )\n",
    "response_message = response.choices[0].message\n",
    "tool_calls = response_message.tool_calls\n",
    "\n"
   ]
  },
  {
   "cell_type": "code",
   "execution_count": 5,
   "metadata": {},
   "outputs": [
    {
     "data": {
      "text/plain": [
       "[ChatCompletionMessageToolCall(id='call_Z59KwnBGhTk8QqsGZSV111Cg', function=Function(arguments='{\"Neighborhood\": \"Maple Grove\", \"Price\": \"$650,000\", \"Bedrooms\": 3, \"Bathrooms\": 2, \"House Size\": \"1,800 sqft\", \"Description\": \"Discover comfortable living in this 3-bedroom, 2-bathroom home in Maple Grove. Featuring spacious rooms, modern appliances, and a large backyard, this property is perfect for families. Enjoy the tranquility of Maple Grove with convenient access to nearby parks and schools. Don\\'t miss the opportunity to call this charming house your home.\", \"Neighborhood Description\": \"Maple Grove is a family-friendly neighborhood known for its great schools, parks, and a strong sense of community. Residents enjoy access to Maple Grove Park and a variety of local shops and restaurants. It\\'s an ideal place for families to grow and thrive.\"}', name='generate_listing'), type='function'),\n",
       " ChatCompletionMessageToolCall(id='call_07EP1QUsBzxuHgURyqzTeFJy', function=Function(arguments='{\"Neighborhood\": \"Pine Hills\", \"Price\": \"$720,000\", \"Bedrooms\": 4, \"Bathrooms\": 3, \"House Size\": \"2,200 sqft\", \"Description\": \"Step into this stunning 4-bedroom, 3-bathroom home located in the scenic Pine Hills. The open floor plan and modern interior design make this the perfect place for both relaxation and entertaining. The master suite features a luxurious en-suite bathroom and a walk-in closet. The outdoor space includes a lovely patio and a well-maintained garden.\", \"Neighborhood Description\": \"Pine Hills is a picturesque neighborhood with tree-lined streets and beautiful natural surroundings. The area offers excellent outdoor activities such as hiking and biking trails, and it\\'s just a short drive from the bustling city center. Ideal for those who love a blend of nature and convenience.\"}', name='generate_listing'), type='function'),\n",
       " ChatCompletionMessageToolCall(id='call_ahZqgciV2rAq4lHNdconE6Zq', function=Function(arguments='{\"Neighborhood\": \"Lakeview\", \"Price\": \"$1,200,000\", \"Bedrooms\": 5, \"Bathrooms\": 4, \"House Size\": \"3,500 sqft\", \"Description\": \"Luxury living awaits in this 5-bedroom, 4-bathroom estate in Lakeview. Boasting panoramic lake views, this property features high-end finishes, a gourmet kitchen, and multiple living areas. The spacious master suite offers stunning views and a spa-like bathroom. Enjoy outdoor entertaining with a pool, hot tub, and landscaped gardens.\", \"Neighborhood Description\": \"Lakeview offers a serene lifestyle with its beautiful lake and park views. Residents have access to private boating docks, walking trails, and exclusive community events. This upscale neighborhood is perfect for those seeking a peaceful and luxurious environment.\"}', name='generate_listing'), type='function'),\n",
       " ChatCompletionMessageToolCall(id='call_9BqxHTvUqQntzu2VZqpJ1gfs', function=Function(arguments='{\"Neighborhood\": \"Sunnyvale\", \"Price\": \"$530,000\", \"Bedrooms\": 3, \"Bathrooms\": 2, \"House Size\": \"1,600 sqft\", \"Description\": \"Charming 3-bedroom, 2-bathroom home in the heart of Sunnyvale. This property features a cozy living room with a fireplace, a bright kitchen with stainless steel appliances, and a spacious backyard perfect for outdoor activities. Located near top-rated schools and local amenities.\", \"Neighborhood Description\": \"Sunnyvale is a vibrant community known for its excellent schools, parks, and friendly atmosphere. Residents can enjoy the local farmers market, community events, and easy access to major highways for commuting. It\\'s a wonderful place to call home.\"}', name='generate_listing'), type='function'),\n",
       " ChatCompletionMessageToolCall(id='call_OHwR62k19Hkvbu6IsgpKhedE', function=Function(arguments='{\"Neighborhood\": \"Riverbend\", \"Price\": \"$860,000\", \"Bedrooms\": 4, \"Bathrooms\": 3.5, \"House Size\": \"2,800 sqft\", \"Description\": \"Elegant 4-bedroom, 3.5-bathroom home in the desirable Riverbend neighborhood. Features include a grand foyer, formal dining room, and a gourmet kitchen with granite countertops. The master suite offers a large walk-in closet and a luxurious bathroom. The backyard is perfect for entertaining with a covered patio and lush landscaping.\", \"Neighborhood Description\": \"Riverbend is a prestigious neighborhood with a mix of traditional and modern homes. Known for its scenic river views and walking paths, it also offers top-notch schools and a strong sense of community. Perfect for families and professionals alike.\"}', name='generate_listing'), type='function'),\n",
       " ChatCompletionMessageToolCall(id='call_GL6dfEytIPSCI6kRdZcTqfy9', function=Function(arguments='{\"Neighborhood\": \"Cedar Park\", \"Price\": \"$480,000\", \"Bedrooms\": 3, \"Bathrooms\": 2, \"House Size\": \"1,750 sqft\", \"Description\": \"Welcome to this delightful 3-bedroom, 2-bathroom home in Cedar Park. The property features an open floor plan with high ceilings, a modern kitchen, and a cozy family room. The master suite includes an en-suite bathroom and ample closet space. Enjoy weekends in the spacious backyard with a patio and mature trees.\", \"Neighborhood Description\": \"Cedar Park is a welcoming community with plenty of green spaces and recreational facilities. Residents benefit from excellent schools, local shops, and dining options. It\\'s an ideal place for those seeking a friendly and active neighborhood.\"}', name='generate_listing'), type='function'),\n",
       " ChatCompletionMessageToolCall(id='call_chNvxJpV4JNXnQuJtQwtgJDh', function=Function(arguments='{\"Neighborhood\": \"Orchard Valley\", \"Price\": \"$790,000\", \"Bedrooms\": 4, \"Bathrooms\": 3, \"House Size\": \"2,400 sqft\", \"Description\": \"Beautiful 4-bedroom, 3-bathroom home in the serene Orchard Valley. This property boasts a spacious living area, a modern kitchen with island, and a formal dining room. The master bedroom features a walk-in closet and a luxurious bathroom. Outside, you\\'ll find a large backyard with a deck and fruit trees.\", \"Neighborhood Description\": \"Orchard Valley is known for its peaceful surroundings and family-friendly environment. With numerous parks and walking trails, it\\'s perfect for outdoor enthusiasts. The community prides itself on its excellent schools and community events.\"}', name='generate_listing'), type='function'),\n",
       " ChatCompletionMessageToolCall(id='call_7HGDczIqE4xosZ48DWfAnH7T', function=Function(arguments='{\"Neighborhood\": \"Fairview Heights\", \"Price\": \"$610,000\", \"Bedrooms\": 3, \"Bathrooms\": 2.5, \"House Size\": \"2,100 sqft\", \"Description\": \"Nestled in Fairview Heights, this 3-bedroom, 2.5-bathroom home offers a blend of comfort and elegance. Features include a spacious living room, a chef\\'s kitchen with custom cabinetry, and a luxurious master suite. The backyard includes a patio and garden space, ideal for entertaining.\", \"Neighborhood Description\": \"Fairview Heights is a suburban gem with top-rated schools, parks, and convenient access to shopping and dining. The community is known for its hospitality and active neighborhood associations. It\\'s a perfect place for families and professionals.\"}', name='generate_listing'), type='function'),\n",
       " ChatCompletionMessageToolCall(id='call_ksPOZsPAVAeDFtWtSPFtlzDf', function=Function(arguments='{\"Neighborhood\": \"Harbor View\", \"Price\": \"$950,000\", \"Bedrooms\": 5, \"Bathrooms\": 4, \"House Size\": \"3,300 sqft\", \"Description\": \"Experience coastal living in this stunning 5-bedroom, 4-bathroom home in Harbor View. Features include an open floor plan, a gourmet kitchen with ocean views, and a luxurious master suite. The outdoor area is perfect for relaxation with a pool, hot tub, and a spacious deck overlooking the water.\", \"Neighborhood Description\": \"Harbor View offers a tranquil coastal lifestyle with beautiful ocean views and nautical charm. Residents enjoy easy access to the beach, marina, and local seafood restaurants. It\\'s an ideal place for those who love the sea and elegant living.\"}', name='generate_listing'), type='function'),\n",
       " ChatCompletionMessageToolCall(id='call_gH5Zt6vNn1wSQ2izOYw6QPq8', function=Function(arguments='{\"Neighborhood\": \"Willow Springs\", \"Price\": \"$550,000\", \"Bedrooms\": 3, \"Bathrooms\": 2, \"House Size\": \"1,700 sqft\", \"Description\": \"Charming 3-bedroom, 2-bathroom home located in the peaceful Willow Springs neighborhood. This property features a bright living room, a modern kitchen, and a master suite with an en-suite bathroom. The backyard includes a patio and beautiful garden spaces, perfect for outdoor enjoyment.\", \"Neighborhood Description\": \"Willow Springs is a serene and family-friendly community with excellent schools, parks, and local amenities. Residents enjoy a close-knit atmosphere and easy access to nearby shopping and dining options. It\\'s a wonderful place to call home.\"}', name='generate_listing'), type='function'),\n",
       " ChatCompletionMessageToolCall(id='call_HquyqeudDjlsX8WErgVnnoo4', function=Function(arguments='{\"Neighborhood\": \"Prairie Ridge\", \"Price\": \"$680,000\", \"Bedrooms\": 4, \"Bathrooms\": 3, \"House Size\": \"2,300 sqft\", \"Description\": \"This 4-bedroom, 3-bathroom home in Prairie Ridge offers spacious living in a prime location. Features include a large living room with a fireplace, a modern kitchen with stainless steel appliances, and a luxurious master suite. The backyard is perfect for entertaining with a covered patio and beautiful landscaping.\", \"Neighborhood Description\": \"Prairie Ridge is a vibrant community known for its excellent schools, parks, and recreational facilities. Residents enjoy a mix of suburban tranquility and urban convenience, with shops and restaurants just a short distance away. Perfect for families and professionals.\"}', name='generate_listing'), type='function'),\n",
       " ChatCompletionMessageToolCall(id='call_IRR235iCjX5emMl7AACYxYUn', function=Function(arguments='{\"Neighborhood\": \"Elmwood\", \"Price\": \"$470,000\", \"Bedrooms\": 3, \"Bathrooms\": 2, \"House Size\": \"1,650 sqft\", \"Description\": \"Cozy 3-bedroom, 2-bathroom home in the heart of Elmwood. This property features a welcoming living room, a modern kitchen, and a master suite with an en-suite bathroom. The backyard includes a deck and a garden area, ideal for relaxing and entertaining.\", \"Neighborhood Description\": \"Elmwood is a charming neighborhood with tree-lined streets and a friendly atmosphere. Residents enjoy access to excellent schools, parks, and local shops. It\\'s a perfect place to call home for families and young professionals.\"}', name='generate_listing'), type='function'),\n",
       " ChatCompletionMessageToolCall(id='call_DCMQ8jjZVoecehFgQswEAsmx', function=Function(arguments='{\"Neighborhood\": \"Hillside Estates\", \"Price\": \"$1,150,000\", \"Bedrooms\": 5, \"Bathrooms\": 4.5, \"House Size\": \"4,000 sqft\", \"Description\": \"Luxurious 5-bedroom, 4.5-bathroom estate in the prestigious Hillside Estates. This property boasts a grand entrance, spacious living areas, a gourmet kitchen, and a master suite with a spa-like bathroom. The outdoor space includes a pool, hot tub, and beautifully landscaped gardens, perfect for entertaining.\", \"Neighborhood Description\": \"Hillside Estates is an upscale neighborhood known for its stunning homes and beautiful views. Residents enjoy a peaceful and private atmosphere, excellent schools, and convenient access to shopping and dining. Perfect for those seeking luxury and tranquility.\"}', name='generate_listing'), type='function'),\n",
       " ChatCompletionMessageToolCall(id='call_kx0irwOaa5TG90M5ckrbvIJC', function=Function(arguments='{\"Neighborhood\": \"Birchwood\", \"Price\": \"$520,000\", \"Bedrooms\": 3, \"Bathrooms\": 2.5, \"House Size\": \"1,850 sqft\", \"Description\": \"Lovely 3-bedroom, 2.5-bathroom home in Birchwood. Features include a spacious living room, a modern kitchen with island, and a master suite with an en-suite bathroom. The backyard offers a patio and garden area, great for outdoor activities.\", \"Neighborhood Description\": \"Birchwood is a family-friendly neighborhood with excellent schools, parks, and a strong sense of community. Residents enjoy local shops, dining options, and community events. It\\'s an ideal place for families and young couples.\"}', name='generate_listing'), type='function'),\n",
       " ChatCompletionMessageToolCall(id='call_JP79xRLuBCexDJ3uRL7gXt3S', function=Function(arguments='{\"Neighborhood\": \"Golden Meadows\", \"Price\": \"$900,000\", \"Bedrooms\": 4, \"Bathrooms\": 3.5, \"House Size\": \"3,000 sqft\", \"Description\": \"Stunning 4-bedroom, 3.5-bathroom home in Golden Meadows. This property features a spacious living area, a modern kitchen with top-of-the-line appliances, and a luxurious master suite. The backyard includes a pool, patio, and beautifully landscaped gardens, ideal for entertaining.\", \"Neighborhood Description\": \"Golden Meadows is an upscale community known for its beautiful homes and excellent amenities. Residents enjoy access to top-rated schools, parks, and recreational facilities. It\\'s an ideal place for those seeking luxury and convenience.\"}', name='generate_listing'), type='function')]"
      ]
     },
     "execution_count": 5,
     "metadata": {},
     "output_type": "execute_result"
    }
   ],
   "source": [
    "tool_calls"
   ]
  },
  {
   "cell_type": "code",
   "execution_count": 6,
   "metadata": {},
   "outputs": [
    {
     "name": "stdout",
     "output_type": "stream",
     "text": [
      "Maple Grove $650,000 3 2 1,800 sqft Discover comfortable living in this 3-bedroom, 2-bathroom home in Maple Grove. Featuring spacious rooms, modern appliances, and a large backyard, this property is perfect for families. Enjoy the tranquility of Maple Grove with convenient access to nearby parks and schools. Don't miss the opportunity to call this charming house your home. Maple Grove is a family-friendly neighborhood known for its great schools, parks, and a strong sense of community. Residents enjoy access to Maple Grove Park and a variety of local shops and restaurants. It's an ideal place for families to grow and thrive.\n",
      "None\n",
      "Pine Hills $720,000 4 3 2,200 sqft Step into this stunning 4-bedroom, 3-bathroom home located in the scenic Pine Hills. The open floor plan and modern interior design make this the perfect place for both relaxation and entertaining. The master suite features a luxurious en-suite bathroom and a walk-in closet. The outdoor space includes a lovely patio and a well-maintained garden. Pine Hills is a picturesque neighborhood with tree-lined streets and beautiful natural surroundings. The area offers excellent outdoor activities such as hiking and biking trails, and it's just a short drive from the bustling city center. Ideal for those who love a blend of nature and convenience.\n",
      "None\n",
      "Lakeview $1,200,000 5 4 3,500 sqft Luxury living awaits in this 5-bedroom, 4-bathroom estate in Lakeview. Boasting panoramic lake views, this property features high-end finishes, a gourmet kitchen, and multiple living areas. The spacious master suite offers stunning views and a spa-like bathroom. Enjoy outdoor entertaining with a pool, hot tub, and landscaped gardens. Lakeview offers a serene lifestyle with its beautiful lake and park views. Residents have access to private boating docks, walking trails, and exclusive community events. This upscale neighborhood is perfect for those seeking a peaceful and luxurious environment.\n",
      "None\n",
      "Sunnyvale $530,000 3 2 1,600 sqft Charming 3-bedroom, 2-bathroom home in the heart of Sunnyvale. This property features a cozy living room with a fireplace, a bright kitchen with stainless steel appliances, and a spacious backyard perfect for outdoor activities. Located near top-rated schools and local amenities. Sunnyvale is a vibrant community known for its excellent schools, parks, and friendly atmosphere. Residents can enjoy the local farmers market, community events, and easy access to major highways for commuting. It's a wonderful place to call home.\n",
      "None\n",
      "Riverbend $860,000 4 3.5 2,800 sqft Elegant 4-bedroom, 3.5-bathroom home in the desirable Riverbend neighborhood. Features include a grand foyer, formal dining room, and a gourmet kitchen with granite countertops. The master suite offers a large walk-in closet and a luxurious bathroom. The backyard is perfect for entertaining with a covered patio and lush landscaping. Riverbend is a prestigious neighborhood with a mix of traditional and modern homes. Known for its scenic river views and walking paths, it also offers top-notch schools and a strong sense of community. Perfect for families and professionals alike.\n",
      "None\n",
      "Cedar Park $480,000 3 2 1,750 sqft Welcome to this delightful 3-bedroom, 2-bathroom home in Cedar Park. The property features an open floor plan with high ceilings, a modern kitchen, and a cozy family room. The master suite includes an en-suite bathroom and ample closet space. Enjoy weekends in the spacious backyard with a patio and mature trees. Cedar Park is a welcoming community with plenty of green spaces and recreational facilities. Residents benefit from excellent schools, local shops, and dining options. It's an ideal place for those seeking a friendly and active neighborhood.\n",
      "None\n",
      "Orchard Valley $790,000 4 3 2,400 sqft Beautiful 4-bedroom, 3-bathroom home in the serene Orchard Valley. This property boasts a spacious living area, a modern kitchen with island, and a formal dining room. The master bedroom features a walk-in closet and a luxurious bathroom. Outside, you'll find a large backyard with a deck and fruit trees. Orchard Valley is known for its peaceful surroundings and family-friendly environment. With numerous parks and walking trails, it's perfect for outdoor enthusiasts. The community prides itself on its excellent schools and community events.\n",
      "None\n",
      "Fairview Heights $610,000 3 2.5 2,100 sqft Nestled in Fairview Heights, this 3-bedroom, 2.5-bathroom home offers a blend of comfort and elegance. Features include a spacious living room, a chef's kitchen with custom cabinetry, and a luxurious master suite. The backyard includes a patio and garden space, ideal for entertaining. Fairview Heights is a suburban gem with top-rated schools, parks, and convenient access to shopping and dining. The community is known for its hospitality and active neighborhood associations. It's a perfect place for families and professionals.\n",
      "None\n",
      "Harbor View $950,000 5 4 3,300 sqft Experience coastal living in this stunning 5-bedroom, 4-bathroom home in Harbor View. Features include an open floor plan, a gourmet kitchen with ocean views, and a luxurious master suite. The outdoor area is perfect for relaxation with a pool, hot tub, and a spacious deck overlooking the water. Harbor View offers a tranquil coastal lifestyle with beautiful ocean views and nautical charm. Residents enjoy easy access to the beach, marina, and local seafood restaurants. It's an ideal place for those who love the sea and elegant living.\n",
      "None\n",
      "Willow Springs $550,000 3 2 1,700 sqft Charming 3-bedroom, 2-bathroom home located in the peaceful Willow Springs neighborhood. This property features a bright living room, a modern kitchen, and a master suite with an en-suite bathroom. The backyard includes a patio and beautiful garden spaces, perfect for outdoor enjoyment. Willow Springs is a serene and family-friendly community with excellent schools, parks, and local amenities. Residents enjoy a close-knit atmosphere and easy access to nearby shopping and dining options. It's a wonderful place to call home.\n",
      "None\n",
      "Prairie Ridge $680,000 4 3 2,300 sqft This 4-bedroom, 3-bathroom home in Prairie Ridge offers spacious living in a prime location. Features include a large living room with a fireplace, a modern kitchen with stainless steel appliances, and a luxurious master suite. The backyard is perfect for entertaining with a covered patio and beautiful landscaping. Prairie Ridge is a vibrant community known for its excellent schools, parks, and recreational facilities. Residents enjoy a mix of suburban tranquility and urban convenience, with shops and restaurants just a short distance away. Perfect for families and professionals.\n",
      "None\n",
      "Elmwood $470,000 3 2 1,650 sqft Cozy 3-bedroom, 2-bathroom home in the heart of Elmwood. This property features a welcoming living room, a modern kitchen, and a master suite with an en-suite bathroom. The backyard includes a deck and a garden area, ideal for relaxing and entertaining. Elmwood is a charming neighborhood with tree-lined streets and a friendly atmosphere. Residents enjoy access to excellent schools, parks, and local shops. It's a perfect place to call home for families and young professionals.\n",
      "None\n",
      "Hillside Estates $1,150,000 5 4.5 4,000 sqft Luxurious 5-bedroom, 4.5-bathroom estate in the prestigious Hillside Estates. This property boasts a grand entrance, spacious living areas, a gourmet kitchen, and a master suite with a spa-like bathroom. The outdoor space includes a pool, hot tub, and beautifully landscaped gardens, perfect for entertaining. Hillside Estates is an upscale neighborhood known for its stunning homes and beautiful views. Residents enjoy a peaceful and private atmosphere, excellent schools, and convenient access to shopping and dining. Perfect for those seeking luxury and tranquility.\n",
      "None\n",
      "Birchwood $520,000 3 2.5 1,850 sqft Lovely 3-bedroom, 2.5-bathroom home in Birchwood. Features include a spacious living room, a modern kitchen with island, and a master suite with an en-suite bathroom. The backyard offers a patio and garden area, great for outdoor activities. Birchwood is a family-friendly neighborhood with excellent schools, parks, and a strong sense of community. Residents enjoy local shops, dining options, and community events. It's an ideal place for families and young couples.\n",
      "None\n",
      "Golden Meadows $900,000 4 3.5 3,000 sqft Stunning 4-bedroom, 3.5-bathroom home in Golden Meadows. This property features a spacious living area, a modern kitchen with top-of-the-line appliances, and a luxurious master suite. The backyard includes a pool, patio, and beautifully landscaped gardens, ideal for entertaining. Golden Meadows is an upscale community known for its beautiful homes and excellent amenities. Residents enjoy access to top-rated schools, parks, and recreational facilities. It's an ideal place for those seeking luxury and convenience.\n",
      "None\n"
     ]
    }
   ],
   "source": [
    "if tool_calls:\n",
    "        for tool_call in tool_calls:\n",
    "            function_name = tool_call.function.name\n",
    "            function_to_call = available_functions[function_name]\n",
    "            function_args = json.loads(tool_call.function.arguments)\n",
    "            function_response = function_to_call(\n",
    "                Neighborhood=function_args.get(\"Neighborhood\"),\n",
    "                Price=function_args.get(\"Price\"),\n",
    "                Bedrooms=function_args.get(\"Bedrooms\"),\n",
    "                Bathrooms=function_args.get(\"Bathrooms\"),\n",
    "                House_Size=function_args.get(\"House Size\"),\n",
    "                Description=function_args.get(\"Description\"),\n",
    "                Neighborhood_Description=function_args.get(\"Neighborhood Description\"),\n",
    "            )\n",
    "            print(function_response)"
   ]
  },
  {
   "cell_type": "code",
   "execution_count": 7,
   "metadata": {},
   "outputs": [
    {
     "data": {
      "text/plain": [
       "30"
      ]
     },
     "execution_count": 7,
     "metadata": {},
     "output_type": "execute_result"
    }
   ],
   "source": [
    "collection.count()"
   ]
  }
 ],
 "metadata": {
  "kernelspec": {
   "display_name": "homeagent",
   "language": "python",
   "name": "python3"
  },
  "language_info": {
   "codemirror_mode": {
    "name": "ipython",
    "version": 3
   },
   "file_extension": ".py",
   "mimetype": "text/x-python",
   "name": "python",
   "nbconvert_exporter": "python",
   "pygments_lexer": "ipython3",
   "version": "3.12.4"
  }
 },
 "nbformat": 4,
 "nbformat_minor": 2
}
