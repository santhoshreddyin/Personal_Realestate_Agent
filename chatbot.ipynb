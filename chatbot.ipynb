{
 "cells": [
  {
   "cell_type": "code",
   "execution_count": 3,
   "metadata": {},
   "outputs": [
    {
     "data": {
      "text/plain": [
       "38"
      ]
     },
     "execution_count": 3,
     "metadata": {},
     "output_type": "execute_result"
    }
   ],
   "source": [
    "from openai import OpenAI\n",
    "import json\n",
    "import chromadb\n",
    "\n",
    "# create an OpenAI client\n",
    "client = OpenAI()\n",
    "\n",
    "#create a chromaDB client\n",
    "chroma_client = chromadb.PersistentClient()\n",
    "collection = chroma_client.get_or_create_collection(name=\"Real_Estate\" , metadata={\"hnsw:space\": \"cosine\"} )\n",
    "\n",
    "# Check if there is any existing data in the collection\n",
    "collection.count()\n"
   ]
  },
  {
   "cell_type": "code",
   "execution_count": 6,
   "metadata": {},
   "outputs": [],
   "source": [
    "questions = [   \n",
    "                \"How big do you want your house to be?\" ,\n",
    "                \"What are 3 most important things for you in choosing this property?\", \n",
    "                \"Which amenities would you like?\", \n",
    "                \"Which transportation options are important to you?\",\n",
    "                \"How urban do you want your neighborhood to be?\",   \n",
    "            ]"
   ]
  },
  {
   "cell_type": "code",
   "execution_count": 9,
   "metadata": {},
   "outputs": [],
   "source": [
    "answers = []\n",
    "for i,question in enumerate(questions):\n",
    "    answers.append(input(question + \"\\n\"))\n"
   ]
  },
  {
   "cell_type": "code",
   "execution_count": 42,
   "metadata": {},
   "outputs": [],
   "source": [
    "results = collection.query(\n",
    "    query_texts=answers, # Chroma will embed this for you\n",
    "    n_results=3 # how many results to return\n",
    ")"
   ]
  },
  {
   "cell_type": "code",
   "execution_count": 43,
   "metadata": {},
   "outputs": [],
   "source": [
    "House_list = [item.split(\"_\")[0] for sublist in results[\"ids\"] for item in sublist]"
   ]
  },
  {
   "cell_type": "code",
   "execution_count": 44,
   "metadata": {},
   "outputs": [],
   "source": [
    "Unique_House_list = list(set(House_list))"
   ]
  },
  {
   "cell_type": "code",
   "execution_count": 48,
   "metadata": {},
   "outputs": [
    {
     "data": {
      "text/plain": [
       "['389cb206-96ce-424e-897f-9dc22bdb47f9',\n",
       " '0df9767f-6885-49da-a533-fa94abdf4959',\n",
       " 'af920a74-3b52-4536-9225-4c986c64af4d',\n",
       " '25b66d8e-afc8-4e5c-9842-2535e93df695',\n",
       " '2e65b8f7-abb7-40d7-94ce-7137a0ff3f53',\n",
       " 'fc43b2d2-9a04-4f3a-bd63-4765ab7c7b25',\n",
       " '799b525d-797c-4c1c-9f30-0ecd3a50889a',\n",
       " '99a010cc-77de-4bed-b21c-4e359b660c42',\n",
       " 'fdc1b68b-c524-489b-a2eb-064ab268602e']"
      ]
     },
     "execution_count": 48,
     "metadata": {},
     "output_type": "execute_result"
    }
   ],
   "source": [
    "Unique_House_list\n"
   ]
  },
  {
   "cell_type": "code",
   "execution_count": 73,
   "metadata": {},
   "outputs": [
    {
     "name": "stdout",
     "output_type": "stream",
     "text": [
      "Here are the 9 houses that match your preferences:\n",
      "House 1: \n",
      "\n",
      "Comfortable three-bedroom house with a spacious kitchen and cozy living room in the heart of Maple Grove. This charming neighborhood is perfect for families, with tree-lined streets, excellent schools, and convenient shopping options just a short drive away. Enjoy the tranquil surroundings and upscale amenities in this Maple Grove masterpiece. Look for a property with a backyard for gardening, a two-car garage, and a modern, energy-efficient heating system to suit your needs. With a strong sense of community and a variety of recreational activities, Maple Grove offers the perfect blend of suburban tranquility and urban convenience for you.\n",
      "House 2: \n",
      "\n",
      "Your ideal home awaits in the peaceful neighborhood of Golden Meadows. Imagine coming home to a comfortable three-bedroom house with a spacious kitchen and cozy living room, perfect for unwinding after a long day. With access to top-rated local schools, convenient shopping options, and a strong sense of community spirit, you'll feel right at home in this prestigious community. Enjoy the tranquility of a quiet neighborhood, the convenience of nearby amenities, and the beauty of lush landscapes right at your doorstep. Look for a property with a backyard for gardening, a two-car garage, and a modern, energy-efficient heating system to create your perfect oasis in Golden Meadows.\n",
      "House 3: \n",
      "\n",
      "Comfortable three-bedroom house with a spacious kitchen and cozy living room in the eco-friendly oasis of Green Oaks. This charming neighborhood is perfect for the eco-conscious family, with access to organic grocery stores, community gardens, and bike paths. Enjoy the natural light flooding through the living spaces, highlighting the beautiful hardwood floors and eco-conscious finishes. With a backyard for gardening, a two-car garage, and a modern, energy-efficient heating system, this property has everything you need for sustainable living without compromising on style. Embrace the close-knit community of Green Oaks and enjoy the nearby Green Oaks Park and Green Bean Cafe. This property offers a perfect blend of comfort, convenience, and eco-conscious living.\n",
      "House 4: \n",
      "\n",
      "Comfortable living awaits you in the charming Ravenswood neighborhood! With its tree-lined streets, historic architecture, and welcoming community vibe, you'll feel right at home in this peaceful area. This area offers good local schools, convenient shopping options, and a quiet neighborhood perfect for family living. Plus, with easy access to the Metra station and public transportation, commuting to downtown Chicago will be stress-free. Look for a property with a spacious kitchen and cozy living room, as well as a backyard for gardening, a two-car garage, and a modern, energy-efficient heating system to meet all your needs. Start your search for the perfect home in Ravenswood today!\n",
      "House 5: \n",
      "\n",
      "Comfortable and cozy three-bedroom house with a spacious kitchen and a cozy living room await you in the peaceful Oakwood Estates neighborhood. This upscale community offers luxurious homes and well-maintained lawns, creating a serene and elegant atmosphere. With top-rated schools and convenient shopping options nearby, you'll have everything you need at your fingertips. Look for a property with a backyard for gardening, a two-car garage, and a modern, energy-efficient heating system to fulfill your desires for a perfect home. Enjoy the blend of elegance and comfort that Oakwood Estates has to offer.\n",
      "House 6: \n",
      "\n",
      "Comfortable three-bedroom house with a spacious kitchen and a cozy living room, perfect for you in the charming Ravenswood neighborhood. This area is known for its tree-lined streets, historic architecture, and welcoming community vibe, offering the quiet neighborhood you desire. With good local schools and convenient shopping options nearby, you'll have everything you need right at your fingertips. Look for a property with a backyard for gardening, a two-car garage, and a modern, energy-efficient heating system to ensure your comfort and convenience. And with easy access to a reliable bus line, proximity to a major highway, and bike-friendly roads, you'll have all the transportation options you need to get around with ease. Find your perfect home in Ravenswood and enjoy the urban living experience tailored to your preferences.\n",
      "House 7: \n",
      "\n",
      "Welcome to your ideal home in the eco-friendly oasis of Green Oaks! This charming three-bedroom house with a spacious kitchen and cozy living room is perfect for you. Not only does it have energy-efficient features like solar panels and well-insulated structure, but it also boasts a backyard for gardening, a two-car garage, and a modern, energy-efficient heating system. \n",
      "\n",
      "In this close-knit, environmentally-conscious community, you will find good local schools, convenient shopping options, and a quiet neighborhood. With access to organic grocery stores, community gardens, and bike paths, you can embrace sustainable living without compromising on style. Plus, with easy access to public transportation and bike-friendly roads, commuting will be a breeze. \n",
      "\n",
      "Don't miss out on the opportunity to live in this Green Oaks gem that perfectly aligns with your preferences. Enjoy the beauty and convenience of this neighborhood while living in your comfortable, eco-friendly dream home.\n",
      "House 8: \n",
      "\n",
      "A comfortable three-bedroom house with a spacious kitchen and a cozy living room awaits you in the beautiful Hillcrest Heights neighborhood. Known for its picturesque tree-lined streets and strong sense of community, Hillcrest Heights offers the perfect balance of small-town charm and modern convenience. With top-rated schools, nearby parks, and recreational facilities, this neighborhood is perfect for families looking for a peaceful oasis to call home. Additionally, you'll enjoy convenient shopping options, good local schools, and a quiet neighborhood that prioritizes your comfort and convenience. Look for a property with a backyard for gardening, a two-car garage, and a modern, energy-efficient heating system to meet all your needs in Hillcrest Heights. This is a place where you can truly embrace the tranquility of suburban living while still enjoying easy access to major highways and public transportation options. Welcome home to Hillcrest Heights, where you can create a peaceful and fulfilling life for you and your family.\n",
      "House 9: \n",
      "\n",
      "Comfortable three-bedroom house with a spacious kitchen and a cozy living room in the picturesque Willow Creek neighborhood. This area is known for its tree-lined streets, strong sense of community, and top-rated schools. You will enjoy convenient shopping options, tranquil surroundings, and a family-friendly atmosphere in Willow Creek. Additionally, with easy access to a nearby bus line, major highway, and bike-friendly roads, commuting and exploring the area will be a breeze. Look for a property with a backyard for gardening, a two-car garage, and a modern, energy-efficient heating system to meet your preferences and make Willow Creek your perfect home.\n"
     ]
    }
   ],
   "source": [
    "print(f\"Here are the {len(Unique_House_list)} houses that match your preferences:\")\n",
    "\n",
    "for i,id in enumerate(Unique_House_list):\n",
    "    print(f\"House {i+1}: \\n\")\n",
    "    Des_data = collection.get(ids=[f\"{id}_Description\"])\n",
    "    #print(Des_data)\n",
    "    Description = Des_data['documents'][0]\n",
    "    Nei_Des_data = collection.get(ids=[f\"{id}_Neighborhood_Description\"])\n",
    "    Neighborhood_Description = Nei_Des_data['documents'][0]\n",
    "    #print(Description,Neighborhood_Description)\n",
    "\n",
    "    Userpreferences = \" \"\n",
    "    for j,question in enumerate(questions):\n",
    "        Userpreferences = Userpreferences + \"Question:\" + questions[j] + \"User Preference:\" + answers[j] + \"\\n \"\n",
    "\n",
    "    Example = \"Comfortable house with a spacious kitchen and a cozy living room in the charming Ravenswood neighborhood. This area is known for its tree-lined streets, historic architecture, and welcoming community vibe. You will find good local schools, convenient shopping options, and a quiet neighborhood in Ravenswood. Additionally, with easy access to the Metra station and public transportation, commuting to downtown Chicago will be a breeze. Look for a property with a backyard for gardening, a two-car garage, and a modern, energy-efficient heating system to suit your needs\"\n",
    "    messages = [{\"role\": \"user\", \"content\": f\"Given the information of House Description as {Description} and Neighborhood Description as {Neighborhood_Description} , User's preference is: {Userpreferences}  provide a personalized message for the user. Example: {Example}\"}]\n",
    "    \n",
    "    response = client.chat.completions.create(\n",
    "        model=\"gpt-3.5-turbo\",\n",
    "        messages=messages,\n",
    "    )\n",
    "    response_message = response.choices[0].message.content\n",
    "    print(response_message)\n",
    "\n",
    "\n",
    "\n",
    "\n"
   ]
  }
 ],
 "metadata": {
  "kernelspec": {
   "display_name": "homeagent",
   "language": "python",
   "name": "python3"
  },
  "language_info": {
   "codemirror_mode": {
    "name": "ipython",
    "version": 3
   },
   "file_extension": ".py",
   "mimetype": "text/x-python",
   "name": "python",
   "nbconvert_exporter": "python",
   "pygments_lexer": "ipython3",
   "version": "3.12.4"
  }
 },
 "nbformat": 4,
 "nbformat_minor": 2
}
