{
 "cells": [
  {
   "cell_type": "code",
   "execution_count": 1,
   "metadata": {},
   "outputs": [
    {
     "data": {
      "text/plain": [
       "30"
      ]
     },
     "execution_count": 1,
     "metadata": {},
     "output_type": "execute_result"
    }
   ],
   "source": [
    "from openai import OpenAI\n",
    "import json\n",
    "import chromadb\n",
    "\n",
    "# create an OpenAI client\n",
    "client = OpenAI()\n",
    "\n",
    "#create a chromaDB client\n",
    "chroma_client = chromadb.PersistentClient()\n",
    "collection = chroma_client.get_or_create_collection(name=\"Real_Estate\" , metadata={\"hnsw:space\": \"cosine\"} )\n",
    "\n",
    "# Check if there is any existing data in the collection\n",
    "collection.count()\n"
   ]
  },
  {
   "cell_type": "code",
   "execution_count": 2,
   "metadata": {},
   "outputs": [],
   "source": [
    "questions = [   \n",
    "                \"How big do you want your house to be?\" ,\n",
    "                \"What are 3 most important things for you in choosing this property?\", \n",
    "                \"Which amenities would you like?\", \n",
    "                \"Which transportation options are important to you?\",\n",
    "                \"How urban do you want your neighborhood to be?\",   \n",
    "            ]"
   ]
  },
  {
   "cell_type": "code",
   "execution_count": 3,
   "metadata": {},
   "outputs": [],
   "source": [
    "answers = []\n",
    "for i,question in enumerate(questions):\n",
    "    answers.append(input(question + \"\\n\"))\n"
   ]
  },
  {
   "cell_type": "code",
   "execution_count": 4,
   "metadata": {},
   "outputs": [],
   "source": [
    "results = collection.query(\n",
    "    query_texts=answers, # Chroma will embed this for you\n",
    "    n_results=3 # how many results to return\n",
    ")"
   ]
  },
  {
   "cell_type": "code",
   "execution_count": 5,
   "metadata": {},
   "outputs": [],
   "source": [
    "House_list = [item.split(\"_\")[0] for sublist in results[\"ids\"] for item in sublist]"
   ]
  },
  {
   "cell_type": "code",
   "execution_count": 6,
   "metadata": {},
   "outputs": [],
   "source": [
    "Unique_House_list = list(set(House_list))"
   ]
  },
  {
   "cell_type": "code",
   "execution_count": 7,
   "metadata": {},
   "outputs": [
    {
     "data": {
      "text/plain": [
       "['db5f6eca-7eea-4a7f-bfcf-aad6d5fb6c75',\n",
       " '252ea444-9531-4442-a3d0-aaa2d83d2d2c',\n",
       " '327f9aa5-d09f-45fb-b617-b8b8163506ad',\n",
       " '0d1901f4-5b46-42ea-bbd2-addc00e66b89',\n",
       " 'bfb32624-d60b-4674-a8c0-fd48f003e52f',\n",
       " '51eac004-507a-42c6-8689-f11376fe6d09',\n",
       " '76e31b37-8b13-4b0c-b426-2a89e8f43dde',\n",
       " '237a41ef-a757-4428-abc4-f8fdbc1ff654']"
      ]
     },
     "execution_count": 7,
     "metadata": {},
     "output_type": "execute_result"
    }
   ],
   "source": [
    "Unique_House_list\n"
   ]
  },
  {
   "cell_type": "code",
   "execution_count": 8,
   "metadata": {},
   "outputs": [
    {
     "name": "stdout",
     "output_type": "stream",
     "text": [
      "Here are the 8 houses that match your preferences:\n",
      "House 1: \n",
      "\n"
     ]
    },
    {
     "name": "stderr",
     "output_type": "stream",
     "text": [
      "huggingface/tokenizers: The current process just got forked, after parallelism has already been used. Disabling parallelism to avoid deadlocks...\n",
      "To disable this warning, you can either:\n",
      "\t- Avoid using `tokenizers` before the fork if possible\n",
      "\t- Explicitly set the environment variable TOKENIZERS_PARALLELISM=(true | false)\n"
     ]
    },
    {
     "name": "stdout",
     "output_type": "stream",
     "text": [
      "Charming 3-bedroom, 2-bathroom home in the heart of Sunnyvale is the perfect place for you. This cozy house features a comfortable living room with a fireplace, a bright kitchen with stainless steel appliances, and a spacious backyard for all your outdoor activities. Located in a quiet neighborhood with top-rated schools and convenient shopping options nearby, you will feel right at home in this vibrant community. With easy access to major highways and a reliable bus line, commuting will be a breeze. Enjoy the perfect balance of suburban tranquility and access to urban amenities in Sunnyvale. Get ready to call this wonderful place home!\n",
      "House 2: \n",
      "\n",
      "Cozy three-bedroom house with a spacious kitchen and a relaxing living room await you in the delightful Prairie Ridge neighborhood. Known for its excellent schools, parks, and recreational facilities, this vibrant community offers a perfect blend of suburban tranquility and urban convenience. Enjoy the convenience of nearby shops and restaurants while still experiencing a peaceful environment. Look for a property with a backyard for gardening, a two-car garage, and a modern, energy-efficient heating system to make your dream home a reality. With easy access to reliable bus lines, a major highway, and bike-friendly roads, commuting and exploring the area will be a breeze. Find your perfect balance of serenity and convenience in Prairie Ridge.\n",
      "House 3: \n",
      "\n",
      "Cozy 3-bedroom, 2-bathroom home in the heart of Elmwood is the perfect fit for you! This property features a welcoming living room, a modern kitchen, and a master suite with an en-suite bathroom. The backyard includes a deck and a garden area, ideal for relaxing and entertaining. Elmwood is a charming neighborhood with tree-lined streets and a friendly atmosphere, perfect for families and young professionals like yourself. You'll have access to excellent schools, parks, and local shops.\n",
      "\n",
      "For your personalized message, consider this: \"Welcome to your new home in the heart of Elmwood! This cozy 3-bedroom house with a spacious kitchen and a cozy living room is the perfect sanctuary for you. Enjoy the peaceful surroundings of this charming neighborhood, complete with good local schools and convenient shopping options. With a backyard for gardening, a two-car garage, and a modern, energy-efficient heating system, this property has everything you need. Plus, with easy access to a reliable bus line, proximity to a major highway, and bike-friendly roads, getting around will be a breeze. Experience the perfect balance between suburban tranquility and urban amenities in Elmwood. Welcome home!\"\n",
      "House 4: \n",
      "\n",
      "A cozy three-bedroom home with a spacious kitchen and a welcoming living room awaits you in the peaceful Pine Hills neighborhood. This area is surrounded by picturesque tree-lined streets and natural beauty, offering a perfect blend of tranquility and convenience. With excellent local schools, convenient shopping options, and a quiet atmosphere, Pine Hills is the ideal place for you and your family.\n",
      "\n",
      "Look for a property with a lovely backyard for gardening, a two-car garage for your vehicles, and a modern, energy-efficient heating system to ensure your comfort. Easy access to a reliable bus line, proximity to a major highway, and bike-friendly roads will make commuting a breeze. Enjoy the best of both worlds with a balance between suburban serenity and access to urban amenities like restaurants and entertainment venues. Your dream home in Pine Hills is waiting for you to make it your own.\n",
      "House 5: \n",
      "\n",
      "Cozy three-bedroom home with a beautiful backyard for gardening and a two-car garage in the peaceful Golden Meadows neighborhood. This upscale community offers top-rated schools, parks, and recreational facilities, perfect for families. With easy access to a reliable bus line and proximity to major highways, commuting will be a breeze. Enjoy the balance of suburban tranquility and urban amenities with convenient shopping options and close proximity to restaurants and theaters. Find your dream home in Golden Meadows, where luxury and convenience meet.\n",
      "House 6: \n",
      "\n",
      "Cozy three-bedroom home with a spacious kitchen and a warm living room nestled in the peaceful Lakeview neighborhood. Enjoy the serene lifestyle with stunning lake and park views right at your doorstep. This upscale area offers good local schools, convenient shopping options, and a quiet atmosphere perfect for relaxation. Look for a property with a backyard for gardening, a two-car garage, and a modern, energy-efficient heating system. With easy access to a reliable bus line, proximity to a major highway, and bike-friendly roads, commuting will be a breeze. Find the perfect balance between suburban tranquility and urban amenities like restaurants and theaters in Lakeview. Happy house hunting!\n",
      "House 7: \n",
      "\n",
      "Welcome to your perfect home in Cedar Park! This charming 3-bedroom house offers a spacious kitchen and a cozy living room, ideal for relaxing and entertaining. You'll love the quiet neighborhood, excellent schools, and convenient shopping options that Cedar Park has to offer. Additionally, the backyard for gardening, two-car garage, and modern, energy-efficient heating system are all amenities that you can enjoy in this lovely home. With easy access to a reliable bus line, proximity to a major highway, and bike-friendly roads, getting around town will be a breeze. Enjoy the perfect balance between suburban tranquility and urban amenities in your new neighborhood.\n",
      "House 8: \n",
      "\n",
      "Cozy three-bedroom home with a chef's kitchen and a luxurious master suite awaits you in the peaceful neighborhood of Fairview Heights. This suburban gem offers top-rated schools, parks, and easy access to shopping and dining options. The active neighborhood associations ensure a welcoming community vibe perfect for families and professionals alike. Look for a property with a backyard for gardening, a two-car garage, and a modern, energy-efficient heating system to complete your ideal home. Enjoy the tranquility of Fairview Heights with the convenience of urban amenities nearby.\n"
     ]
    }
   ],
   "source": [
    "print(f\"Here are the {len(Unique_House_list)} houses that match your preferences:\")\n",
    "\n",
    "for i,id in enumerate(Unique_House_list):\n",
    "    print(f\"House {i+1}: \\n\")\n",
    "    Des_data = collection.get(ids=[f\"{id}_Description\"])\n",
    "    #print(Des_data)\n",
    "    Description = Des_data['documents'][0]\n",
    "    Nei_Des_data = collection.get(ids=[f\"{id}_Neighborhood_Description\"])\n",
    "    Neighborhood_Description = Nei_Des_data['documents'][0]\n",
    "    #print(Description,Neighborhood_Description)\n",
    "\n",
    "    Userpreferences = \" \"\n",
    "    for j,question in enumerate(questions):\n",
    "        Userpreferences = Userpreferences + \"Question:\" + questions[j] + \"User Preference:\" + answers[j] + \"\\n \"\n",
    "\n",
    "    Example = \"Comfortable house with a spacious kitchen and a cozy living room in the charming Ravenswood neighborhood. This area is known for its tree-lined streets, historic architecture, and welcoming community vibe. You will find good local schools, convenient shopping options, and a quiet neighborhood in Ravenswood. Additionally, with easy access to the Metra station and public transportation, commuting to downtown Chicago will be a breeze. Look for a property with a backyard for gardening, a two-car garage, and a modern, energy-efficient heating system to suit your needs\"\n",
    "    messages = [{\"role\": \"user\", \"content\": f\"Given the information of House Description as {Description} and Neighborhood Description as {Neighborhood_Description} , User's preference is: {Userpreferences}  provide a personalized message for the user. Example: {Example}\"}]\n",
    "    \n",
    "    response = client.chat.completions.create(\n",
    "        model=\"gpt-3.5-turbo\",\n",
    "        messages=messages,\n",
    "    )\n",
    "    response_message = response.choices[0].message.content\n",
    "    print(response_message)\n",
    "\n",
    "\n",
    "\n",
    "\n"
   ]
  }
 ],
 "metadata": {
  "kernelspec": {
   "display_name": "homeagent",
   "language": "python",
   "name": "python3"
  },
  "language_info": {
   "codemirror_mode": {
    "name": "ipython",
    "version": 3
   },
   "file_extension": ".py",
   "mimetype": "text/x-python",
   "name": "python",
   "nbconvert_exporter": "python",
   "pygments_lexer": "ipython3",
   "version": "3.12.4"
  }
 },
 "nbformat": 4,
 "nbformat_minor": 2
}
